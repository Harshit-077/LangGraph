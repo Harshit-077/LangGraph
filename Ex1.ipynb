{
 "cells": [
  {
   "cell_type": "code",
   "execution_count": 1,
   "id": "24fe6e59",
   "metadata": {},
   "outputs": [],
   "source": [
    "from langgraph.graph import StateGraph\n",
    "from typing import Dict, TypedDict"
   ]
  },
  {
   "cell_type": "code",
   "execution_count": 2,
   "id": "e8f4ffbc",
   "metadata": {},
   "outputs": [],
   "source": [
    "class AgentState(TypedDict):#Our state schema\n",
    "    name: str\n",
    "\n",
    "def complement_node(state: AgentState)->AgentState:\n",
    "    \"\"\"Node to complement a person on his langgraph skills.\"\"\"\n",
    "    state[\"name\"] = \"Hey \"+state[\"name\"]+\", you are doing an amazing job with learning langgraph!\"\n",
    "    return state"
   ]
  },
  {
   "cell_type": "code",
   "execution_count": 3,
   "id": "c931a0a6",
   "metadata": {},
   "outputs": [],
   "source": [
    "graph = StateGraph(AgentState)\n",
    "graph.add_node(\"complementor\",complement_node)\n",
    "graph.set_entry_point(\"complementor\")\n",
    "graph.set_finish_point(\"complementor\")\n",
    "app = graph.compile()"
   ]
  },
  {
   "cell_type": "code",
   "execution_count": 4,
   "id": "603460cb",
   "metadata": {},
   "outputs": [],
   "source": [
    "result = app.invoke({\"name\":\"Bob\"})"
   ]
  },
  {
   "cell_type": "code",
   "execution_count": 5,
   "id": "4a9fb14a",
   "metadata": {},
   "outputs": [
    {
     "data": {
      "text/plain": [
       "'Hey Bob, you are doing an amazing job with learning langgraph!'"
      ]
     },
     "execution_count": 5,
     "metadata": {},
     "output_type": "execute_result"
    }
   ],
   "source": [
    "result['name']"
   ]
  },
  {
   "cell_type": "code",
   "execution_count": null,
   "id": "599549ce",
   "metadata": {},
   "outputs": [],
   "source": []
  }
 ],
 "metadata": {
  "kernelspec": {
   "display_name": "3.13.2",
   "language": "python",
   "name": "python3"
  },
  "language_info": {
   "codemirror_mode": {
    "name": "ipython",
    "version": 3
   },
   "file_extension": ".py",
   "mimetype": "text/x-python",
   "name": "python",
   "nbconvert_exporter": "python",
   "pygments_lexer": "ipython3",
   "version": "3.13.2"
  }
 },
 "nbformat": 4,
 "nbformat_minor": 5
}
